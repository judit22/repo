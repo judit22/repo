{
  "nbformat": 4,
  "nbformat_minor": 0,
  "metadata": {
    "colab": {
      "provenance": [],
      "authorship_tag": "ABX9TyOvb8uPIAzamOvDNdHOJ1+k",
      "include_colab_link": true
    },
    "kernelspec": {
      "name": "python3",
      "display_name": "Python 3"
    },
    "language_info": {
      "name": "python"
    }
  },
  "cells": [
    {
      "cell_type": "markdown",
      "metadata": {
        "id": "view-in-github",
        "colab_type": "text"
      },
      "source": [
        "<a href=\"https://colab.research.google.com/github/judit22/repo/blob/main/Untitled11.ipynb\" target=\"_parent\"><img src=\"https://colab.research.google.com/assets/colab-badge.svg\" alt=\"Open In Colab\"/></a>"
      ]
    },
    {
      "cell_type": "code",
      "execution_count": 1,
      "metadata": {
        "colab": {
          "base_uri": "https://localhost:8080/"
        },
        "id": "SHOgDY6RSh5H",
        "outputId": "e53a1d01-f72e-4d1a-e265-7960e4721056"
      },
      "outputs": [
        {
          "output_type": "stream",
          "name": "stdout",
          "text": [
            "Cloning into 'repo'...\n",
            "remote: Enumerating objects: 27, done.\u001b[K\n",
            "remote: Counting objects: 100% (27/27), done.\u001b[K\n",
            "remote: Compressing objects: 100% (17/17), done.\u001b[K\n",
            "remote: Total 27 (delta 7), reused 16 (delta 4), pack-reused 0\u001b[K\n",
            "Receiving objects: 100% (27/27), 4.51 KiB | 4.51 MiB/s, done.\n",
            "Resolving deltas: 100% (7/7), done.\n"
          ]
        }
      ],
      "source": [
        "!git clone https://github.com/judit22/repo.git"
      ]
    },
    {
      "cell_type": "code",
      "source": [
        "cd repo"
      ],
      "metadata": {
        "colab": {
          "base_uri": "https://localhost:8080/"
        },
        "id": "h67mAUXaSla5",
        "outputId": "f11b8057-0eef-441b-f0ba-5c5a0f59112e"
      },
      "execution_count": 2,
      "outputs": [
        {
          "output_type": "stream",
          "name": "stdout",
          "text": [
            "/content/repo\n"
          ]
        }
      ]
    },
    {
      "cell_type": "code",
      "source": [
        "f=open('def.txt')\n",
        "print(f.read())\n",
        "f.close()"
      ],
      "metadata": {
        "colab": {
          "base_uri": "https://localhost:8080/"
        },
        "id": "w5B3xVRlSml2",
        "outputId": "798326cd-441c-45ed-8457-df6a558c6290"
      },
      "execution_count": 3,
      "outputs": [
        {
          "output_type": "stream",
          "name": "stdout",
          "text": [
            "insert two lines in this file \n",
            "other profile inserted one line as well\n",
            "\n",
            "other change\n"
          ]
        }
      ]
    },
    {
      "cell_type": "code",
      "source": [
        "f=open('def.txt', 'a')\n",
        "f.write('02.20')\n",
        "f.close()"
      ],
      "metadata": {
        "id": "_RgIbGHMSrlY"
      },
      "execution_count": 4,
      "outputs": []
    },
    {
      "cell_type": "code",
      "source": [
        "f=open('def.txt')\n",
        "print(f.read())\n",
        "f.close()"
      ],
      "metadata": {
        "colab": {
          "base_uri": "https://localhost:8080/"
        },
        "id": "HpYZVv2PSz3Z",
        "outputId": "be736dda-2059-4360-8a56-b0925a55bc50"
      },
      "execution_count": 5,
      "outputs": [
        {
          "output_type": "stream",
          "name": "stdout",
          "text": [
            "insert two lines in this file \n",
            "other profile inserted one line as well\n",
            "\n",
            "other change02.20\n"
          ]
        }
      ]
    },
    {
      "cell_type": "code",
      "source": [
        "!git add def.txt"
      ],
      "metadata": {
        "id": "qnMnegZqS5OU"
      },
      "execution_count": 6,
      "outputs": []
    },
    {
      "cell_type": "code",
      "source": [
        "!git config --global user.email \"teveszjudit@gmail.com\"\n",
        "!git config --global user.name \"judit22\"\n"
      ],
      "metadata": {
        "id": "NjiEqFgETAp4"
      },
      "execution_count": 8,
      "outputs": []
    },
    {
      "cell_type": "code",
      "source": [
        "!git commit -m \"def.txt added a new line\""
      ],
      "metadata": {
        "colab": {
          "base_uri": "https://localhost:8080/"
        },
        "id": "H0EXwBKhS7kE",
        "outputId": "8d8b65c6-7804-44e6-8e97-352822132c37"
      },
      "execution_count": 9,
      "outputs": [
        {
          "output_type": "stream",
          "name": "stdout",
          "text": [
            "[main 8c82335] def.txt added a new line\n",
            " 1 file changed, 1 insertion(+), 1 deletion(-)\n"
          ]
        }
      ]
    },
    {
      "cell_type": "code",
      "source": [
        "!git log --oneline"
      ],
      "metadata": {
        "colab": {
          "base_uri": "https://localhost:8080/"
        },
        "id": "a0sR40fqTfCk",
        "outputId": "216e1bb9-ecaa-42c9-c523-5b52ca112ed6"
      },
      "execution_count": 15,
      "outputs": [
        {
          "output_type": "stream",
          "name": "stdout",
          "text": [
            "\u001b[33m40be900\u001b[m\u001b[33m (\u001b[m\u001b[1;36mHEAD -> \u001b[m\u001b[1;32mmain\u001b[m\u001b[33m)\u001b[m def.txt added a new line\n",
            "\u001b[33mfabb143\u001b[m\u001b[33m (\u001b[m\u001b[1;31morigin/main\u001b[m\u001b[33m, \u001b[m\u001b[1;31morigin/HEAD\u001b[m\u001b[33m)\u001b[m last modification\n",
            "\u001b[33ma72a48b\u001b[m judit22 added a line\n",
            "\u001b[33m360ac48\u001b[m Update def.txt\n",
            "\u001b[33m4105915\u001b[m def\n",
            "\u001b[33m5b932e2\u001b[m other profile abc.txt\n",
            "\u001b[33mc50fe70\u001b[m Update README.md\n",
            "\u001b[33mbcfc493\u001b[m Initial commit\n"
          ]
        }
      ]
    },
    {
      "cell_type": "code",
      "source": [
        "!git checkout fabb143 def.txt"
      ],
      "metadata": {
        "colab": {
          "base_uri": "https://localhost:8080/"
        },
        "id": "aAbX3q30Tq_j",
        "outputId": "47c1520d-b02e-42cd-cdb2-5ad94ddeb91b"
      },
      "execution_count": 16,
      "outputs": [
        {
          "output_type": "stream",
          "name": "stdout",
          "text": [
            "Updated 1 path from dad0133\n"
          ]
        }
      ]
    },
    {
      "cell_type": "code",
      "source": [
        "!git commit -m \"restored a prev version of def.txt\""
      ],
      "metadata": {
        "colab": {
          "base_uri": "https://localhost:8080/"
        },
        "id": "ZvWlyEqIUWZ-",
        "outputId": "2ac0370f-ff6c-4e77-80cc-40469768378c"
      },
      "execution_count": 21,
      "outputs": [
        {
          "output_type": "stream",
          "name": "stdout",
          "text": [
            "[main 81a809b] restored a prev version of def.txt\n",
            " 1 file changed, 1 insertion(+), 1 deletion(-)\n"
          ]
        }
      ]
    },
    {
      "cell_type": "code",
      "source": [
        "!git push"
      ],
      "metadata": {
        "colab": {
          "base_uri": "https://localhost:8080/"
        },
        "id": "G3XnDeuuUb4P",
        "outputId": "4f3bf769-438b-4a88-b447-5617ae7a95d2"
      },
      "execution_count": 22,
      "outputs": [
        {
          "output_type": "stream",
          "name": "stdout",
          "text": [
            "Enumerating objects: 5, done.\n",
            "Counting objects:  20% (1/5)\rCounting objects:  40% (2/5)\rCounting objects:  60% (3/5)\rCounting objects:  80% (4/5)\rCounting objects: 100% (5/5)\rCounting objects: 100% (5/5), done.\n",
            "Delta compression using up to 2 threads\n",
            "Compressing objects:  33% (1/3)\rCompressing objects:  66% (2/3)\rCompressing objects: 100% (3/3)\rCompressing objects: 100% (3/3), done.\n",
            "Writing objects:  33% (1/3)\rWriting objects:  66% (2/3)\rWriting objects: 100% (3/3)\rWriting objects: 100% (3/3), 287 bytes | 287.00 KiB/s, done.\n",
            "Total 3 (delta 2), reused 0 (delta 0), pack-reused 0\n",
            "remote: Resolving deltas:   0% (0/2)\u001b[K\rremote: Resolving deltas:  50% (1/2)\u001b[K\rremote: Resolving deltas: 100% (2/2)\u001b[K\rremote: Resolving deltas: 100% (2/2), completed with 2 local objects.\u001b[K\n",
            "To https://github.com/judit22/repo.git\n",
            "   40be900..81a809b  main -> main\n"
          ]
        }
      ]
    },
    {
      "cell_type": "code",
      "source": [],
      "metadata": {
        "id": "jdkfoYL-KE7f"
      },
      "execution_count": null,
      "outputs": []
    }
  ]
}